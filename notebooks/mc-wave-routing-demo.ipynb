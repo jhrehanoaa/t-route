{
 "cells": [
  {
   "cell_type": "markdown",
   "metadata": {},
   "source": [
    "## 1. Introduction\n",
    "\n",
    "The Muskingum-Cunge (MC) model is a kinematic wave approximation of the St. Venant equations with parameters based on channel characteristics. The model is coded in Fortran and frequently called by Python scripts in the t-route repository. This notebook demonstrates the application of the MC model. The notebook reviews how to create an extension module that allows Fortran functions to be called by Python, how to set up the model domain, specify river segment parameters, execute the model, and evaluate output. Model application is reviewed in the context of two simple experiments.\n",
    "\n",
    "## 2. Add the Fortran routing directory to the system path\n",
    "\n",
    "First, we need to add the single-segment Fortran routing directory to the system path. To use Fortran routing subroutines, we need to tell the system where they are located. We do this by adding new directories to the path. We have some logic to accomodate execution in Google Colaboratory notebooks, as needed."
   ]
  },
  {
   "cell_type": "code",
   "execution_count": null,
   "metadata": {},
   "outputs": [],
   "source": [
    "import sys\n",
    "import os\n",
    "import subprocess\n",
    "\n",
    "try:\n",
    "    import google.colab\n",
    "\n",
    "    ENV_IS_CL = True\n",
    "    root = r\"/content/t-route\"\n",
    "    subprocess.run([\"git\", \"clone\", \"https://github.com/NOAA-OWP/t-route.git\"])\n",
    "except:\n",
    "    root = os.path.dirname(os.path.abspath(\"\"))\n"
   ]
  },
  {
   "cell_type": "code",
   "execution_count": null,
   "metadata": {},
   "outputs": [],
   "source": [
    "fortran_source_dir = os.path.join(\n",
    "    root, r\"src\", r\"fortran_routing\", r\"mc_pylink_v00\", r\"MC_singleSeg_singleTS\"\n",
    ")\n",
    "sys.path.insert(1, fortran_source_dir)\n"
   ]
  },
  {
   "cell_type": "markdown",
   "metadata": {},
   "source": [
    "## 3. Compile and import Fortran extension module\n",
    "\n",
    "Fortran code cannot be called directly by Python. Therefore, we need to generate a Python API file that contains wrappers for Fortran functions, so they can be called from Python. This is done using the `f2py3` - a Fortran to Python interface generator that creates an extension module that can be called by Python. This is done as a shell command:\n",
    "\n",
    "```\n",
    "$ f2py3 -c varPrecision.f90 MCsingleSegStime_f2py_NOLOOP.f90 -m mc_sseg_stime\n",
    "```\n",
    "\n",
    "Once the extension module is created, we can import it\n",
    "\n",
    "**NOTE** - As of June 18, 2020 - this process is likely to become obsolete in the near future per contributions by RG which move towards use of a custom wrapper. "
   ]
  },
  {
   "cell_type": "code",
   "execution_count": null,
   "metadata": {},
   "outputs": [],
   "source": [
    "try:\n",
    "    print(r\"importing fortran module...\")\n",
    "    from mc_sseg_stime import muskingcunge_module\n",
    "\n",
    "    print(r\"... success!\")\n",
    "except:\n",
    "    print(\n",
    "        \"we will attempt to compile the muskingcunge_module in the background... wish us luck!\"\n",
    "    )\n",
    "    try:\n",
    "        import subprocess\n",
    "        import traceback\n",
    "\n",
    "        f2py_call = []\n",
    "        f2py_call.append(r\"f2py3\")\n",
    "        f2py_call.append(r\"-c\")\n",
    "        f2py_call.append(r\"varPrecision.f90\")\n",
    "        f2py_call.append(r\"MCsingleSegStime_f2py_NOLOOP.f90\")\n",
    "        f2py_call.append(r\"-m\")\n",
    "        f2py_call.append(r\"mc_sseg_stime\")\n",
    "        subprocess.run(\n",
    "            f2py_call,\n",
    "            cwd=fortran_source_dir,\n",
    "            stdout=subprocess.DEVNULL,\n",
    "            stderr=subprocess.DEVNULL,\n",
    "        )\n",
    "        from mc_sseg_stime import muskingcunge_module\n",
    "\n",
    "        print(r\"...success!\")\n",
    "    except Exception as e:\n",
    "        print(f\"Exception: {e}\")\n",
    "        traceback.print_exc()\n"
   ]
  },
  {
   "cell_type": "markdown",
   "metadata": {},
   "source": [
    "## 4. Import the `singlesegment` function\n",
    "Next, we import `mc_sset_stime_NOLOOP_demo`, which contains a function called `singlesegment()` that calls the Fortran MC routing routine for a single timestep over a single river segment. "
   ]
  },
  {
   "cell_type": "code",
   "execution_count": null,
   "metadata": {},
   "outputs": [],
   "source": [
    "from mc_sseg_stime_NOLOOP_demo import singlesegment\n"
   ]
  },
  {
   "cell_type": "markdown",
   "metadata": {},
   "source": [
    "## 5. Set up the model domain\n",
    "Our simulation examples will consider wave movement through a single segment of a stream reach. A segment is the smallest elementary unit of a river network. Therefore, the spatial domain is simply defined by the segment length (meters). The time domain is defined by a timestep duration (seconds) and the number of timesteps to be simulated.  "
   ]
  },
  {
   "cell_type": "code",
   "execution_count": null,
   "metadata": {},
   "outputs": [],
   "source": [
    "# Time\n",
    "dt = 600  # timestep (seconds)\n",
    "tsteps = 60  # number of timesteps\n",
    "\n",
    "# Space\n",
    "dx = 2000.0  # segment length (meters)\n"
   ]
  },
  {
   "cell_type": "markdown",
   "metadata": {},
   "source": [
    "## 6. Specify channel parameters\n",
    "Channel parameters specify the geometric and hydraulic properties of the segment. The segment is assumed to have a compound cross section geometry with a trapezoidal channel and a rectangular floodplain. Channel and floodplain roughness are described by the Manning's roughness coefficient. The segment has a constant slope. "
   ]
  },
  {
   "cell_type": "code",
   "execution_count": null,
   "metadata": {},
   "outputs": [],
   "source": [
    "# channel parameters\n",
    "# cross section geometry\n",
    "bw = 112.0  # Trapezoidal bottom width\n",
    "tw = 448.0  # Channel top width (at bankfull)\n",
    "twcc = 623.0  # Flood plain width\n",
    "cs = 1.40  # channel trapezoidal sideslope\n",
    "\n",
    "# Channel and floodplain roughness\n",
    "n_manning = 0.028  # manning roughness of channel\n",
    "n_manning_cc = 0.031  # manning roughness of floodplain\n",
    "\n",
    "# Segment slope\n",
    "s0 = 0.0018  # segment bed slope\n"
   ]
  },
  {
   "cell_type": "markdown",
   "metadata": {},
   "source": [
    "## 7. Execute and analyze\n",
    "### Experiment 1: State change from a lower flow condition to a higher one\n",
    "Force the upstream boundary condition flow rate to be 2 times greater than the initial flow in the segment. Run the model until flow in the segment reaches steady state.  "
   ]
  },
  {
   "cell_type": "code",
   "execution_count": null,
   "metadata": {},
   "outputs": [],
   "source": [
    "# lateral inflows\n",
    "qlat = 0\n",
    "\n",
    "# initial conditions\n",
    "qup = 0.41  # Flow from the upstream neighbor in the previous timestep\n",
    "quc = 0.41  # Flow from the upstream neighbor in the current timestep\n",
    "qdp = 0.21  # Flow at the current segment in the previous timestep\n",
    "depthp = 0.010  # Depth at the current segment in the previous timestep #NOTE: I don't think the model does anything with this.\n",
    "velp = 0.070  # Velocity in the current segment in the previous timestep\n",
    "\n",
    "# initialize vectors to save results - flow and time\n",
    "q_result = []\n",
    "t_result = []\n",
    "\n",
    "# step through time\n",
    "for k in range(0, tsteps):\n",
    "\n",
    "    # run the MC routine for this timestep\n",
    "    qdc, velc, depthc = singlesegment(\n",
    "        dt=dt,\n",
    "        qup=qup,\n",
    "        quc=quc,\n",
    "        qdp=qdp,\n",
    "        qlat=qlat,\n",
    "        dx=dx,\n",
    "        bw=bw,\n",
    "        tw=tw,\n",
    "        twcc=twcc,\n",
    "        n_manning=n_manning,\n",
    "        n_manning_cc=n_manning_cc,\n",
    "        cs=cs,\n",
    "        s0=s0,\n",
    "        velp=velp,\n",
    "        depthp=depthp,\n",
    "    )\n",
    "\n",
    "    # save simulation results for the kth timestep\n",
    "    q_result.append(qdc)\n",
    "    t_result.append(k * dt)\n",
    "\n",
    "    # update initial conditions for next timestep\n",
    "    qdp = qdc  # Flow at the current segment in the previous timestep\n",
    "    depthp = depthc  # Depth at the current segment in the previous timestep')\n",
    "    velp = velc  # Velocity in the current segment in the previous timestep\n",
    "\n",
    "# Plot result\n",
    "from matplotlib import pyplot as plt\n",
    "\n",
    "plt.plot(t_result, q_result)\n",
    "plt.xlabel(\"Elapsed Time (seconds)\")\n",
    "plt.ylabel(\"Flow Rate (cms)\")\n",
    "plt.title(\"MC state change response\")\n",
    "plt.show()\n"
   ]
  },
  {
   "cell_type": "markdown",
   "metadata": {},
   "source": [
    "The figure above shows the simulated change in flow rate at the downstream end of the 2 km river segment. As time proceeds, the flow rate at the segment outlet increases to match the flow rate at the upper boundary condition, which is twice the rate of the initial flow rate. Simulated flows reach a steady state after ~30000 seconds."
   ]
  },
  {
   "cell_type": "markdown",
   "metadata": {},
   "source": [
    "### Experiment 2: Propagating a pulse of water\n",
    "Force the upstream boundary condition to be a rectangular shaped pulse. Observe how routing alters the shape of the upstream pulse at the downstream end of the river segment. "
   ]
  },
  {
   "cell_type": "code",
   "execution_count": null,
   "metadata": {},
   "outputs": [],
   "source": [
    "# lateral inflows\n",
    "qlat = 0\n",
    "\n",
    "# initial conditions - similar flow conditions in upstream seg and seg of interest\n",
    "qup = 0.21  # Flow from the upstream neighbor in the previous timestep\n",
    "quc = 0.21  # Flow from the upstream neighbor in the current timestep\n",
    "qdp = 0.21  # Flow at the current segment in the previous timestep\n",
    "depthp = 0.010  # Depth at the current segment in the previous timestep\n",
    "velp = 0.070  # Velocity in the current segment in the previous timestep\n",
    "\n",
    "# initialize\n",
    "qus = []\n",
    "q_result = []\n",
    "t_result = []\n",
    "\n",
    "# step through time\n",
    "for k in range(0, tsteps):\n",
    "\n",
    "    # Create a pulse upstream boundary by conditionally changing as a function of time\n",
    "    if k <= 5:\n",
    "        qup = 0.21\n",
    "        quc = 0.21\n",
    "\n",
    "    if 5 < k < 10:\n",
    "        qup = 1\n",
    "        quc = 1\n",
    "\n",
    "    else:\n",
    "        qup = 0.21\n",
    "        quc = 0.21\n",
    "\n",
    "    # run the MC routine for this timestep\n",
    "    qdc, velc, depthc = singlesegment(\n",
    "        dt=dt,\n",
    "        qup=qup,\n",
    "        quc=quc,\n",
    "        qdp=qdp,\n",
    "        qlat=qlat,\n",
    "        dx=dx,\n",
    "        bw=bw,\n",
    "        tw=tw,\n",
    "        twcc=twcc,\n",
    "        n_manning=n_manning,\n",
    "        n_manning_cc=n_manning_cc,\n",
    "        cs=cs,\n",
    "        s0=s0,\n",
    "        velp=velp,\n",
    "        depthp=depthp,\n",
    "    )\n",
    "\n",
    "    # save simulation results for the kth timestep\n",
    "    q_result.append(qdc)\n",
    "    t_result.append(k * dt)\n",
    "    qus.append(quc)\n",
    "\n",
    "    # update initial conditions for next timestep\n",
    "    qdp = qdc  # Flow at the current segment in the previous timestep\n",
    "    depthp = depthc  # Depth at the current segment in the previous timestep\n",
    "    velp = velc  # Velocity in the current segment in the previous timestep\n",
    "\n",
    "plt.plot(t_result, q_result)\n",
    "plt.plot(t_result, qus)\n",
    "plt.xlabel(\"Elapsed Time (seconds)\")\n",
    "plt.ylabel(\"Flow Rate (cms)\")\n",
    "plt.title(\"MC pulse response\")\n",
    "plt.show()\n"
   ]
  },
  {
   "cell_type": "markdown",
   "metadata": {},
   "source": [
    "In the plot above, the upstream boundary condition (flow at the upper end of the segment) is illustrated with an orange line. The simulated upstream pulse increases from 0.21 cms to 1 cms at t = 300 seconds, upstream flow remains at 1 cms until t = 600 seconds, after which the flow rate abruptly decreases back to 0.21 cms. The downstream response is illustrated with a blue line. Wave propagation significantly alters the shape of the downstream hydrograph. Specifically, there is a more gradual increase from the initial condition (0.21 cms) to the peak flow, which is much lower than 1 cms. After the peak flow, a gradual recession occurs and downstream flows return to their initial condition after ~30000 seconds. "
   ]
  }
 ],
 "metadata": {
  "kernelspec": {
   "display_name": "Python 3",
   "language": "python",
   "name": "python3"
  },
  "language_info": {
   "codemirror_mode": {
    "name": "ipython",
    "version": 3
   },
   "file_extension": ".py",
   "mimetype": "text/x-python",
   "name": "python",
   "nbconvert_exporter": "python",
   "pygments_lexer": "ipython3",
   "version": ""
  }
 },
 "nbformat": 4,
 "nbformat_minor": 4
}
